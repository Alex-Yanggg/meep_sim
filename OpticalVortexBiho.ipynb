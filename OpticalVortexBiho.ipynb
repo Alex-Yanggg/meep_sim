{
 "cells": [
  {
   "cell_type": "markdown",
   "metadata": {},
   "source": [
    "Cylindrical symmetry with a simulation domain of 22.1 um in length and 11 um in radius. Grid spacing is set to 10 nm along the z and radial axes. 1 um thick PML boundary. "
   ]
  },
  {
   "cell_type": "markdown",
   "metadata": {},
   "source": [
    "Source plane at 20 nm to the right from the left boundary (-z). Entire simulation space is filled with hBN, with refractive indices of n_o = 2.15 and n_e = 1.86."
   ]
  },
  {
   "cell_type": "code",
   "execution_count": 1,
   "metadata": {},
   "outputs": [],
   "source": [
    "# import argparse\n",
    "import meep as mp\n",
    "import matplotlib.pyplot as plt\n",
    "\n",
    "import numpy as np\n",
    "from IPython.display import Video\n",
    "\n",
    "# Characteristic length is 1 um and grid spacing = 10 nm\n",
    "\n",
    "\n",
    "n_o = 2.15      # ordinary n of hBN\n",
    "n_e = 1.86      # extraordinary n of hBN\n",
    "dpml = 1        # thickness of PML\n",
    "m = 3           # exp(i*m*phi) ???\n",
    "hbn = mp.Medium(epsilon_diag=mp.Vector3(n_o**2, n_o**2, n_e**2))\n",
    "\n",
    "sr = 11         # radial size in um\n",
    "sz = 22.1       # z-length in um\n",
    "dimensions = mp.CYLINDRICAL\n",
    "\n",
    "# Total Simulation Area:\n",
    "cell = mp.Vector3(sr, 0, sz) # (r, phi, z) | Total simulation area\n",
    "# phi = 0, b/c continuous rotational symmetry\n",
    "\n",
    "\n",
    "\n",
    "\n"
   ]
  },
  {
   "cell_type": "markdown",
   "metadata": {},
   "source": [
    "Geometry should be equal to the cell? Because hBN is the entire simulation region?"
   ]
  },
  {
   "cell_type": "code",
   "execution_count": 2,
   "metadata": {},
   "outputs": [
    {
     "ename": "NameError",
     "evalue": "name 'sz' is not defined",
     "output_type": "error",
     "traceback": [
      "\u001b[0;31m---------------------------------------------------------------------------\u001b[0m",
      "\u001b[0;31mNameError\u001b[0m                                 Traceback (most recent call last)",
      "Cell \u001b[0;32mIn[2], line 4\u001b[0m\n\u001b[1;32m      1\u001b[0m geometry \u001b[38;5;241m=\u001b[39m [\n\u001b[1;32m      2\u001b[0m     mp\u001b[38;5;241m.\u001b[39mBlock(\n\u001b[1;32m      3\u001b[0m         centre\u001b[38;5;241m=\u001b[39mmp\u001b[38;5;241m.\u001b[39mVector3(),\n\u001b[0;32m----> 4\u001b[0m         size\u001b[38;5;241m=\u001b[39mmp\u001b[38;5;241m.\u001b[39mVector3(sr, mp\u001b[38;5;241m.\u001b[39minf, \u001b[43msz\u001b[49m),\n\u001b[1;32m      5\u001b[0m         material\u001b[38;5;241m=\u001b[39mhbn\n\u001b[1;32m      6\u001b[0m     )\n\u001b[1;32m      7\u001b[0m ]\n\u001b[1;32m      9\u001b[0m pml_layers \u001b[38;5;241m=\u001b[39m [mp\u001b[38;5;241m.\u001b[39mPML(dpml)]\n\u001b[1;32m     10\u001b[0m resolution \u001b[38;5;241m=\u001b[39m \u001b[38;5;241m100\u001b[39m \u001b[38;5;66;03m# 1um / 10nm ?\u001b[39;00m\n",
      "\u001b[0;31mNameError\u001b[0m: name 'sz' is not defined"
     ]
    }
   ],
   "source": [
    "geometry = [\n",
    "    mp.Block(\n",
    "        centre=mp.Vector3(),\n",
    "        size=mp.Vector3(sr, mp.inf, sz),\n",
    "        material=hbn\n",
    "    )\n",
    "]\n",
    "\n",
    "pml_layers = [mp.PML(dpml)]\n",
    "resolution = 100 # 1um / 10nm ?\n",
    "\n",
    "\n",
    "\n"
   ]
  },
  {
   "cell_type": "markdown",
   "metadata": {},
   "source": [
    "Defining the Source: (Source plane at 20 nm to the right from the left boundary (-z))"
   ]
  },
  {
   "cell_type": "code",
   "execution_count": null,
   "metadata": {},
   "outputs": [],
   "source": [
    "# 594 nm laser <-> 1.683501684 in meep freq units\n",
    "fcen = 1.683501684  # pulse centre frequency\n",
    "df = 0  # pulse frequency width\n",
    "# 0.2 * centre frequency\n",
    "\n",
    "# LCP incident wave: Ex(Er) polarised wave + Ey(Ephi) wave with 90 degree phase shift\n",
    "sources = [\n",
    "    # Er polarised wave\n",
    "    mp.Source(\n",
    "        src=mp.GaussianSource(fcen, fwidth=df),\n",
    "        component=mp.Er,\n",
    "        center=mp.Vector3(0, 0, 0.02), # 1 um/20 nm ?\n",
    "    ),\n",
    "\n",
    "    # Set phase = +mp.pi/2 for RCP!\n",
    "    mp.Source(\n",
    "        src=mp.GaussianSource(fcen, fwidth=df, phase=-mp.pi/2),\n",
    "        component=mp.Ep,\n",
    "        center=mp.Vector3(0, 0, 0.02), # 1 um/20 nm ?\n",
    "    )\n",
    "]"
   ]
  },
  {
   "cell_type": "markdown",
   "metadata": {},
   "source": [
    "Simulation"
   ]
  },
  {
   "cell_type": "code",
   "execution_count": null,
   "metadata": {},
   "outputs": [],
   "source": [
    "    # note that the r -> -r mirror symmetry is exploited automatically\n",
    "\n",
    "    sim = mp.Simulation(\n",
    "        cell_size=cell,     # \n",
    "        geometry=geometry,  #\n",
    "        boundary_layers=pml_layers, #\n",
    "        resolution=resolution,\n",
    "        sources=sources,\n",
    "        dimensions=dimensions,\n",
    "    )\n",
    "\n",
    "    sim.run(until=600) # how to choose the time?\n",
    "\n",
    "    # could animate?\n",
    "    # get steady state image of the r-z plane?\n",
    "\n",
    "\"\"\" From ring-cyl.py:\n",
    "    # Output fields for one period at the end.  (If we output\n",
    "    # at a single time, we might accidentally catch the Ez field when it is\n",
    "    # almost zero and get a distorted view.)  We'll append the fields\n",
    "    # to a file to get an r-by-t picture.  We'll also output from -sr to -sr\n",
    "    # instead of from 0 to sr.\n",
    "    sim.run(\n",
    "        mp.in_volume(\n",
    "            mp.Volume(center=mp.Vector3(), size=mp.Vector3(2 * sr)),\n",
    "            mp.at_beginning(mp.output_epsilon),\n",
    "            mp.to_appended(\"ez\", mp.at_every(1 / fcen / 20, mp.output_efield_z)),\n",
    "        ),\n",
    "        until=1 / fcen,\n",
    "    )\n",
    "\"\"\""
   ]
  }
 ],
 "metadata": {
  "kernelspec": {
   "display_name": "mp",
   "language": "python",
   "name": "python3"
  },
  "language_info": {
   "codemirror_mode": {
    "name": "ipython",
    "version": 3
   },
   "file_extension": ".py",
   "mimetype": "text/x-python",
   "name": "python",
   "nbconvert_exporter": "python",
   "pygments_lexer": "ipython3",
   "version": "3.8.20"
  }
 },
 "nbformat": 4,
 "nbformat_minor": 2
}
